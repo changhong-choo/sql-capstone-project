{
 "cells": [
  {
   "cell_type": "markdown",
   "id": "5fe15222",
   "metadata": {},
   "source": [
    "## Milestone 1: Project Proposal and Data Selection"
   ]
  },
  {
   "cell_type": "code",
   "execution_count": 4,
   "id": "faca1d75",
   "metadata": {},
   "outputs": [],
   "source": [
    "# Import packages\n",
    "import pandas as pd\n",
    "from pandasql import sqldf\n",
    "pysqldf = lambda q: sqldf(q, globals())"
   ]
  },
  {
   "cell_type": "code",
   "execution_count": 5,
   "id": "19400027",
   "metadata": {},
   "outputs": [],
   "source": [
    "# Import Yelp dataset\n",
    "\n",
    "# Load the business.json file\n",
    "business_json_path = 'business dataset path'\n",
    "df_b = pd.read_json(business_json_path, lines=True)\n",
    "\n",
    "# Clean the business.json file\n",
    "# Only keep the business that are still open in the dataset\n",
    "df_b = df_b[df_b['is_open']==1]\n",
    "\n",
    "# Find the categories related to coffee\n",
    "df_explode = df_b.assign(categories = df_b.categories\n",
    "                         .str.split(', ')).explode('categories')\n",
    "df_explode[df_explode.categories.str.contains('Coffee',\n",
    "                      case=True,na=False)].categories.value_counts()\n",
    "\n",
    "business_coffee = df_b[df_b['categories'].str.contains(\n",
    "              'Coffee & Tea|Coffee Roasteries|Coffeeshops|Coffee & Tea Supplies',\n",
    "              case=False, na=False)]"
   ]
  },
  {
   "cell_type": "code",
   "execution_count": 6,
   "id": "ccb075f5",
   "metadata": {},
   "outputs": [
    {
     "name": "stdout",
     "output_type": "stream",
     "text": [
      "59133 out of 1,000,000 related reviews\n",
      "50950 out of 1,000,000 related reviews\n",
      "45895 out of 1,000,000 related reviews\n",
      "48063 out of 1,000,000 related reviews\n",
      "43283 out of 1,000,000 related reviews\n",
      "48746 out of 1,000,000 related reviews\n",
      "55564 out of 1,000,000 related reviews\n"
     ]
    }
   ],
   "source": [
    "# Load the review.json file\n",
    "review_json_path = 'review dataset path'\n",
    "size = 1000000\n",
    "df_r = pd.read_json(review_json_path, lines=True,\n",
    "                      dtype={'review_id':str,'user_id':str,\n",
    "                             'business_id':str,'stars':int,\n",
    "                             'date':str,'text':str,'useful':int,\n",
    "                             'funny':int,'cool':int},\n",
    "                      chunksize=size)\n",
    "\n",
    "chunk_list = []\n",
    "for chunk_review in df_r:\n",
    "    # Drop columns that aren't needed\n",
    "    chunk_review = chunk_review.drop(['review_id','useful','funny','cool'], axis=1)\n",
    "    # Renaming column name to avoid conflict with business overall star rating\n",
    "    chunk_review = chunk_review.rename(columns={'stars': 'review_stars'})\n",
    "    # Inner merge with edited business file so only reviews related to the business remain\n",
    "    chunk_merged = pd.merge(business_coffee, chunk_review, on='business_id', how='inner')\n",
    "    # Show feedback on progress\n",
    "    print(f\"{chunk_merged.shape[0]} out of {size:,} related reviews\")\n",
    "    chunk_list.append(chunk_merged)\n",
    "# After trimming down the review file, concatenate all relevant data back to one dataframe\n",
    "df = pd.concat(chunk_list, ignore_index=True, join='outer', axis=0)\n",
    "df['date'] = pd.to_datetime(df['date'])"
   ]
  },
  {
   "cell_type": "code",
   "execution_count": 7,
   "id": "1c14865f",
   "metadata": {},
   "outputs": [],
   "source": [
    "# Convert the new data frame into a CSV file for future reference\n",
    "csv_name = 'csv location path'\n",
    "df.to_csv(csv_name, index=False)"
   ]
  },
  {
   "cell_type": "code",
   "execution_count": 8,
   "id": "a25b4317",
   "metadata": {},
   "outputs": [
    {
     "name": "stdout",
     "output_type": "stream",
     "text": [
      "Earliest & Latest Date:\n",
      "start_date:  2005-04-11 00:42:37\n",
      "end_date:  2022-01-19 19:31:01\n"
     ]
    }
   ],
   "source": [
    "# Data exploration\n",
    "\n",
    "# Find the earliest and latest review date\n",
    "print('Earliest & Latest Date:')\n",
    "print('start_date: ', df.date.min())\n",
    "print('end_date: ', df.date.max())"
   ]
  },
  {
   "cell_type": "code",
   "execution_count": 9,
   "id": "8ab91bf0",
   "metadata": {
    "scrolled": true
   },
   "outputs": [
    {
     "data": {
      "text/plain": [
       "<AxesSubplot:>"
      ]
     },
     "execution_count": 9,
     "metadata": {},
     "output_type": "execute_result"
    },
    {
     "data": {
      "image/png": "[encoded data removed]",
      "text/plain": [
       "<Figure size 432x288 with 1 Axes>"
      ]
     },
     "metadata": {
      "needs_background": "light"
     },
     "output_type": "display_data"
    }
   ],
   "source": [
    "# Distribution of date\n",
    "df.date.hist()"
   ]
  },
  {
   "cell_type": "code",
   "execution_count": 10,
   "id": "c3ea718c",
   "metadata": {},
   "outputs": [
    {
     "name": "stdout",
     "output_type": "stream",
     "text": [
      "Top 10 categories:\n"
     ]
    },
    {
     "data": {
      "text/plain": [
       "Restaurants                  34987\n",
       "Food                         20419\n",
       "Shopping                     20186\n",
       "Home Services                13322\n",
       "Beauty & Spas                12263\n",
       "Health & Medical             11046\n",
       "Local Services               10138\n",
       "Automotive                    9879\n",
       "Nightlife                     8379\n",
       "Event Planning & Services     8173\n",
       "Name: categories, dtype: int64"
      ]
     },
     "execution_count": 10,
     "metadata": {},
     "output_type": "execute_result"
    }
   ],
   "source": [
    "# Find the top 10 categories\n",
    "print('Top 10 categories:')\n",
    "df_explode.categories.value_counts()[:10]"
   ]
  }
 ],
 "metadata": {
  "kernelspec": {
   "display_name": "Python 3 (ipykernel)",
   "language": "python",
   "name": "python3"
  },
  "language_info": {
   "codemirror_mode": {
    "name": "ipython",
    "version": 3
   },
   "file_extension": ".py",
   "mimetype": "text/x-python",
   "name": "python",
   "nbconvert_exporter": "python",
   "pygments_lexer": "ipython3",
   "version": "3.8.11"
  }
 },
 "nbformat": 4,
 "nbformat_minor": 5
}
